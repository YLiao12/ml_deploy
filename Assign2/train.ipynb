{
 "cells": [
  {
   "cell_type": "code",
   "execution_count": 1,
   "id": "4cf08c62",
   "metadata": {},
   "outputs": [
    {
     "name": "stdout",
     "output_type": "stream",
     "text": [
      "Training Logistic Regression model with bigram CountVectorize...\n"
     ]
    },
    {
     "name": "stderr",
     "output_type": "stream",
     "text": [
      "C:\\Users\\yongq\\.conda\\envs\\mldeploy\\lib\\site-packages\\sklearn\\linear_model\\_logistic.py:814: ConvergenceWarning: lbfgs failed to converge (status=1):\n",
      "STOP: TOTAL NO. of ITERATIONS REACHED LIMIT.\n",
      "\n",
      "Increase the number of iterations (max_iter) or scale the data as shown in:\n",
      "    https://scikit-learn.org/stable/modules/preprocessing.html\n",
      "Please also refer to the documentation for alternative solver options:\n",
      "    https://scikit-learn.org/stable/modules/linear_model.html#logistic-regression\n",
      "  n_iter_i = _check_optimize_result(\n"
     ]
    },
    {
     "name": "stdout",
     "output_type": "stream",
     "text": [
      "              precision    recall  f1-score   support\n",
      "\n",
      "        FAKE       0.91      0.93      0.92       627\n",
      "        REAL       0.93      0.91      0.92       640\n",
      "\n",
      "    accuracy                           0.92      1267\n",
      "   macro avg       0.92      0.92      0.92      1267\n",
      "weighted avg       0.92      0.92      0.92      1267\n",
      "\n",
      "Training Logistic Regression model with bigram TfidfVectorizer...\n",
      "              precision    recall  f1-score   support\n",
      "\n",
      "        FAKE       0.89      0.91      0.90       627\n",
      "        REAL       0.91      0.89      0.90       640\n",
      "\n",
      "    accuracy                           0.90      1267\n",
      "   macro avg       0.90      0.90      0.90      1267\n",
      "weighted avg       0.90      0.90      0.90      1267\n",
      "\n"
     ]
    }
   ],
   "source": [
    "# Yongqing LIAO 1155161159\n",
    "\n",
    "import glob\n",
    "import pandas as pd\n",
    "\n",
    "from sklearn.model_selection import train_test_split\n",
    "from sklearn.naive_bayes import MultinomialNB\n",
    "from sklearn.linear_model import LogisticRegression\n",
    "from sklearn.feature_extraction.text import CountVectorizer, TfidfVectorizer\n",
    "from sklearn.pipeline import Pipeline\n",
    "from sklearn.metrics import classification_report\n",
    "\n",
    "from joblib import dump\n",
    "\n",
    "from pre_process import split\n",
    "\n",
    "def logistic_regression_count_bigram(train, test):\n",
    "    \"\"\"Train a logistic regression classifier with count vectorizer.\n",
    "    :param training set. pandas Dataframe.\n",
    "    :param test set. pandas Dataframe.\n",
    "    :param model save path. str. None for don't save.\n",
    "    :return sklearn model.\n",
    "    \"\"\"\n",
    "    print('Training Logistic Regression model with bigram CountVectorize...')\n",
    "    # Extract documents and labels.\n",
    "    docs_train = train['text']\n",
    "    labels_train = train['label']\n",
    "    docs_test = test['text']\n",
    "    labels_test = test['label']\n",
    "    # Start up a Pipeline\n",
    "    pipe = Pipeline([\n",
    "        ('vec', CountVectorizer(ngram_range=(1,2))),\n",
    "        ('log', LogisticRegression())\n",
    "    ])\n",
    "    # Train the model.\n",
    "    pipe.fit(docs_train, labels_train)\n",
    "    # Do prediction.\n",
    "    y_pred = pipe.predict(docs_test)\n",
    "    # Get report.\n",
    "    print(classification_report(labels_test, y_pred))\n",
    "    dump(pipe, \"count_model.pkl\")\n",
    "\n",
    "def logistic_regression_tfidf_bigram(train, test):\n",
    "    \"\"\"Train a logistic regression classifier with count vectorizer.\n",
    "    :param training set. pandas Dataframe.\n",
    "    :param test set. pandas Dataframe.\n",
    "    :param model save path. str. None for don't save.\n",
    "    :return sklearn model.\n",
    "    \"\"\"\n",
    "    print('Training Logistic Regression model with bigram TfidfVectorizer...')\n",
    "    # Extract documents and labels.\n",
    "    docs_train = train['text']\n",
    "    labels_train = train['label']\n",
    "    docs_test = test['text']\n",
    "    labels_test = test['label']\n",
    "    # Start up a Pipeline\n",
    "    pipe = Pipeline([\n",
    "        ('vec', TfidfVectorizer(ngram_range=(1,2))),\n",
    "        ('log', LogisticRegression())\n",
    "    ])\n",
    "    # Train the model.\n",
    "    pipe.fit(docs_train, labels_train)\n",
    "    # Do prediction.\n",
    "    y_pred = pipe.predict(docs_test)\n",
    "    # Get report.\n",
    "    print(classification_report(labels_test, y_pred))\n",
    "    dump(pipe, \"tfidf_model.pkl\")\n",
    "\n",
    "if __name__ == '__main__':\n",
    "    train, test = split('G:\\\\machine learning\\\\Assign2\\\\', True, 'G:\\\\machine learning\\\\Assign2\\\\')\n",
    "    logistic_regression_count_bigram(train, test)\n",
    "    logistic_regression_tfidf_bigram(train, test)"
   ]
  }
 ],
 "metadata": {
  "kernelspec": {
   "display_name": "Python 3 (ipykernel)",
   "language": "python",
   "name": "python3"
  },
  "language_info": {
   "codemirror_mode": {
    "name": "ipython",
    "version": 3
   },
   "file_extension": ".py",
   "mimetype": "text/x-python",
   "name": "python",
   "nbconvert_exporter": "python",
   "pygments_lexer": "ipython3",
   "version": "3.8.12"
  }
 },
 "nbformat": 4,
 "nbformat_minor": 5
}
